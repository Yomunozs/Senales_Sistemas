{
  "nbformat": 4,
  "nbformat_minor": 0,
  "metadata": {
    "colab": {
      "provenance": [],
      "authorship_tag": "ABX9TyPzdk0O8CKUB9ozQ+0Zi7gf",
      "include_colab_link": true
    },
    "kernelspec": {
      "name": "python3",
      "display_name": "Python 3"
    },
    "language_info": {
      "name": "python"
    }
  },
  "cells": [
    {
      "cell_type": "markdown",
      "metadata": {
        "id": "view-in-github",
        "colab_type": "text"
      },
      "source": [
        "<a href=\"https://colab.research.google.com/github/Yomunozs/Senales_Sistemas/blob/main/Codigos_temas_1%2C2_y_3.ipynb\" target=\"_parent\"><img src=\"https://colab.research.google.com/assets/colab-badge.svg\" alt=\"Open In Colab\"/></a>"
      ]
    },
    {
      "cell_type": "markdown",
      "source": [
        "Ejercicios tema 1, Variables."
      ],
      "metadata": {
        "id": "ebE6CB4LdQLz"
      }
    },
    {
      "cell_type": "markdown",
      "source": [
        "Exercises\n",
        "\n",
        "1. Write a program that displays the result of the following arithmetic operation on the screen: $x(t) = \\left(\\frac{3+2}{2.5}\\right)^2$\n",
        "\n",
        "2. Write a program that asks the user for the number of hours worked and the hourly rate. Then, it should display on the screen the corresponding payment.\n",
        "\n",
        "3. Write a program that asks the user for their weight (in kg) and height (in meters), calculates the body mass index (BMI), stores it in a variable, and displays the message \"Your body mass index is imc\" on the screen, where imc is the calculated BMI rounded to two decimal places."
      ],
      "metadata": {
        "id": "JStnkxBPd0dY"
      }
    },
    {
      "cell_type": "markdown",
      "source": [
        "1."
      ],
      "metadata": {
        "id": "fabET-B_jL3C"
      }
    },
    {
      "cell_type": "code",
      "source": [
        "x=((3+2)/2.5)**(2)\n",
        "x"
      ],
      "metadata": {
        "id": "DYIs5bv57aMv",
        "outputId": "ce69bbd2-c13a-497b-f2a4-7d3a454539de",
        "colab": {
          "base_uri": "https://localhost:8080/"
        }
      },
      "execution_count": null,
      "outputs": [
        {
          "output_type": "execute_result",
          "data": {
            "text/plain": [
              "4.0"
            ]
          },
          "metadata": {},
          "execution_count": 39
        }
      ]
    },
    {
      "cell_type": "markdown",
      "source": [
        "2."
      ],
      "metadata": {
        "id": "KYn97KJrjRQB"
      }
    },
    {
      "cell_type": "code",
      "source": [
        "h = int(input(\"Horas laboradas \"))\n",
        "v = float(10000) #valor de la hora\n",
        "int(v)\n",
        "t = h * v\n",
        "print(\"Su pago total es\", t)\n"
      ],
      "metadata": {
        "id": "90btM6KBlsG4",
        "outputId": "b671ed98-0189-486c-f038-4f6b7bce5f6d",
        "colab": {
          "base_uri": "https://localhost:8080/"
        }
      },
      "execution_count": 4,
      "outputs": [
        {
          "output_type": "stream",
          "name": "stdout",
          "text": [
            "Horas laboradas 5\n",
            "Su pago total es 50000.0\n"
          ]
        }
      ]
    },
    {
      "cell_type": "markdown",
      "source": [
        "3."
      ],
      "metadata": {
        "id": "um9CiuD-jTeo"
      }
    },
    {
      "cell_type": "code",
      "source": [
        "\n",
        "w= float(input(\"ingrese su peso en Kilogramos \"))\n",
        "h=float(input(\"ingrese su altura em Metros \"))\n",
        "b=w/h\n",
        "print(\"Your body mass index is\",\"{0:.2f}\".format(b) )\n"
      ],
      "metadata": {
        "id": "wX5UcRE5mR4_",
        "colab": {
          "base_uri": "https://localhost:8080/"
        },
        "outputId": "697af63b-b0e8-4b58-d692-df2a99e15e3c"
      },
      "execution_count": 7,
      "outputs": [
        {
          "output_type": "stream",
          "name": "stdout",
          "text": [
            "ingrese su peso en Kilogramos 56\n",
            "ingrese su altura em Metros 1.65\n",
            "Your body mass index is 33.94\n"
          ]
        }
      ]
    },
    {
      "cell_type": "markdown",
      "source": [
        "Ejercicios tema 2, Condicionales.\n",
        "\n",
        "Exercises:\n",
        "\n",
        "1. In order to pay a certain tax, you must be over 16 years old and have a monthly income equal to or greater than €1000. Write a program that asks the user for their age and monthly income, and displays whether the user has to pay the tax or not.\n",
        "\n",
        "2. The Bella Napoli pizzeria offers vegetarian and non-vegetarian pizzas to its customers. The ingredients for each type of pizza are as follows:\n",
        "\n",
        "\n",
        "\n",
        "Vegetarian ingredients: Bell peppers and tofu.\n",
        "\n",
        "Non-vegetarian ingredients: Pepperoni, Ham, and Salmon.\n",
        "\n",
        "Write a program that asks the user if they want a vegetarian pizza or not, and based on their response, displays a menu with the available ingredients for them to choose from. Only one additional ingredient can be chosen besides the mozzarella and tomato, which are included in all pizzas. Finally, the program should display whether the chosen pizza is vegetarian or not, along with all the ingredients it contains."
      ],
      "metadata": {
        "id": "5v7gJ4KredgI"
      }
    },
    {
      "cell_type": "markdown",
      "source": [
        "1.\n"
      ],
      "metadata": {
        "id": "W_hS8g2vjYZK"
      }
    },
    {
      "cell_type": "code",
      "source": [
        "a= int(input(\"write your age \"))\n",
        "i= float(input(\"write your monthly income \"))\n",
        "if a > 16:\n",
        "  if i >= 1000:\n",
        "    print(\"you need to pay the tax\")\n",
        "else:\n",
        "   print(\"you do not need to pay the tax\")"
      ],
      "metadata": {
        "id": "KIWL9EGb7SIR",
        "outputId": "29e93bb0-4018-427b-bb6d-67322f6baea6",
        "colab": {
          "base_uri": "https://localhost:8080/"
        }
      },
      "execution_count": null,
      "outputs": [
        {
          "output_type": "stream",
          "name": "stdout",
          "text": [
            "write your age 20\n",
            "write your monthly income 3000\n",
            "you need to pay the tax\n"
          ]
        }
      ]
    },
    {
      "cell_type": "markdown",
      "source": [
        "2."
      ],
      "metadata": {
        "id": "FH6R27Y_jbAM"
      }
    },
    {
      "cell_type": "code",
      "source": [
        "v = [\"Mozarella\", \"tomato\"]\n",
        "nv = [\"Pepperoni\", \"Ham\", \"Salmon\"]\n",
        "y=True\n",
        "n=False\n",
        "r= str(input(\"do you want vegetarian pizza? write y, if not write n: \" ))\n",
        "if r==\"y\":\n",
        "  a=input(\"do you want Bell peppers or Tofu on your pizza? \")\n",
        "  print(\"your chose a vegetarian pizza. ingredients: Mozarella, Tomato and\", a)\n",
        "else:\n",
        "  a=input(\"do you want Peperoni, Ham or Salmon on your pizza? \")\n",
        "  print(\"your chose a Non-vegetarian pizza. ingredients: Mozarella, Tomato and\", a)\n",
        "\n"
      ],
      "metadata": {
        "id": "PsXhsG-nucbu",
        "outputId": "2cc36c90-7168-479b-858d-28924be541c0",
        "colab": {
          "base_uri": "https://localhost:8080/"
        }
      },
      "execution_count": 21,
      "outputs": [
        {
          "output_type": "stream",
          "name": "stdout",
          "text": [
            "do you want vegetarian pizza? write y, if not write n: y\n",
            "do you want Bell peppers or Tofu on your pizza? tofu\n",
            "your choose a vegetarian pizza. ingredients: Mozarella, Tomato and tofu\n"
          ]
        }
      ]
    },
    {
      "cell_type": "code",
      "source": [],
      "metadata": {
        "id": "gZSYr1ZWlr-E"
      },
      "execution_count": 15,
      "outputs": []
    },
    {
      "cell_type": "markdown",
      "source": [
        "Ejercicios tema 3. Loops\n",
        "\n",
        "Exercise 1\n",
        "\n",
        "Write a code that ask the user to enter an integer number every time, and the process will be repeated with more numbers until the user enters a zero.\n",
        "\n",
        "At the end (when the zero is entered), show the amount of numbers entered.\n",
        "\n",
        "Exercise 2\n",
        "\n",
        "Use the input() function to ask for the user to enter one integer number. Only if the number is even, it will be accumulated.\n",
        "\n",
        "The program must come to an end if the sum of the numbers surpasses 50 or if the user enters a maximum of 10 numbers."
      ],
      "metadata": {
        "id": "TXb0lfQqojH2"
      }
    },
    {
      "cell_type": "markdown",
      "source": [
        "1.\n",
        "\n"
      ],
      "metadata": {
        "id": "OaDaAcpOoup8"
      }
    },
    {
      "cell_type": "code",
      "source": [
        "a=int(input(\"write an integer number \"))\n",
        "c=1\n",
        "while a:\n",
        " a=int(input(\"write an integer number \"))\n",
        " c=c+1\n",
        "print(\"the amount of numbers entered was \",c )"
      ],
      "metadata": {
        "colab": {
          "base_uri": "https://localhost:8080/"
        },
        "id": "SlC0BFVeowlM",
        "outputId": "3c55fa55-4bd8-41d2-c0f8-07e22f55fe07"
      },
      "execution_count": 34,
      "outputs": [
        {
          "output_type": "stream",
          "name": "stdout",
          "text": [
            "write an integer number 0\n",
            "the amount of numbers entered was  1\n"
          ]
        }
      ]
    },
    {
      "cell_type": "markdown",
      "source": [
        "2."
      ],
      "metadata": {
        "id": "hda9WKK1r0BB"
      }
    },
    {
      "cell_type": "code",
      "source": [
        "from ctypes import c_short\n",
        "a=int(input(\"write an integer number \"))\n",
        "c=int(1)\n",
        "s=int(0)\n",
        "p=a%2\n",
        "\n",
        "if p==0:\n",
        "  s=a\n",
        "\n",
        "while c in range(10) and s in range(50):\n",
        "  a=int(input(\"write an integer number \"))\n",
        "  p=a%2\n",
        "  c=c+1\n",
        "  c\n",
        "  if p==0:\n",
        "   s=s+a\n",
        "\n",
        "\n",
        "\n",
        "\n",
        "c\n",
        "s\n"
      ],
      "metadata": {
        "colab": {
          "base_uri": "https://localhost:8080/"
        },
        "id": "f-iW27k_qRrL",
        "outputId": "b5d7345e-31e1-4ab7-c287-b8e86beeefd4"
      },
      "execution_count": 70,
      "outputs": [
        {
          "name": "stdout",
          "output_type": "stream",
          "text": [
            "write an integer number 34\n",
            "write an integer number 24\n"
          ]
        },
        {
          "output_type": "execute_result",
          "data": {
            "text/plain": [
              "58"
            ]
          },
          "metadata": {},
          "execution_count": 70
        }
      ]
    }
  ]
}