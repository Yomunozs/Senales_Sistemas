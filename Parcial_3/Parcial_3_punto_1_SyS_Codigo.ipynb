{
  "nbformat": 4,
  "nbformat_minor": 0,
  "metadata": {
    "colab": {
      "provenance": [],
      "authorship_tag": "ABX9TyMDQ/wW45szRNYJXm5/TZPy",
      "include_colab_link": true
    },
    "kernelspec": {
      "name": "python3",
      "display_name": "Python 3"
    },
    "language_info": {
      "name": "python"
    }
  },
  "cells": [
    {
      "cell_type": "markdown",
      "metadata": {
        "id": "view-in-github",
        "colab_type": "text"
      },
      "source": [
        "<a href=\"https://colab.research.google.com/github/Yomunozs/Senales_Sistemas/blob/main/Parcial_3/Parcial_3_punto_1_SyS_Codigo.ipynb\" target=\"_parent\"><img src=\"https://colab.research.google.com/assets/colab-badge.svg\" alt=\"Open In Colab\"/></a>"
      ]
    },
    {
      "cell_type": "markdown",
      "source": [
        "<font color='magenta'>#######################################################################################################</font>\n",
        "# <font color='blue'>Numeral 1</font>\n",
        "\n",
        "\n",
        "<font color='green'>**Se trabaja apartir de varios cuadernos de apoyo 9_Pendulo_Elastico.ipynb, ...**</font>\n",
        "\n"
      ],
      "metadata": {
        "id": "oGtKVCWWgPXR"
      }
    },
    {
      "cell_type": "code",
      "execution_count": null,
      "metadata": {
        "colab": {
          "base_uri": "https://localhost:8080/",
          "height": 58
        },
        "id": "9mKekLJz_BY1",
        "outputId": "e1afcffe-66a5-47db-c6e3-3277715c4e5c"
      },
      "outputs": [
        {
          "output_type": "execute_result",
          "data": {
            "text/plain": [
              "       1        \n",
              "────────────────\n",
              "  ⎛c⋅s   k    2⎞\n",
              "m⋅⎜─── + ─ + s ⎟\n",
              "  ⎝ m    m     ⎠"
            ],
            "text/latex": "$\\displaystyle \\frac{1}{m \\left(\\frac{c s}{m} + \\frac{k}{m} + s^{2}\\right)}$"
          },
          "metadata": {},
          "execution_count": 111
        }
      ],
      "source": [
        "# Librerias necesarias\n",
        "%matplotlib inline\n",
        "import sympy as sym\n",
        "import numpy as np\n",
        "import matplotlib.pyplot as plt\n",
        "from sympy.physics.control.lti import TransferFunction #Para definir funciones de transferencia\n",
        "from sympy.physics.control.control_plots import pole_zero_plot, bode_plot, impulse_response_plot, step_response_plot, ramp_response_plot #Para evaluar y graficar funciones de transferencia\n",
        "\n",
        "\n",
        "sym.init_printing()\n",
        "\n",
        "#Se crean las varables como simbolos para su uso com sympy\n",
        "t, m, c, k = sym.symbols('t m c k', real=True, positive=True)\n",
        "s = sym.symbols('s', complex=True) # Como solo S tiene valor complejo se inicializa aparte\n",
        "\n",
        "K = 1/k #Ganancia\n",
        "wn = sym.sqrt(k/m) #Frecuencia natural\n",
        "z = c/(2*sym.sqrt(k*m)) # Factor de amortiguamiento\n",
        "\n",
        "F = K*wn**2/(s**2+2*z*wn*s+(wn**2)) # Función de transferencia\n",
        "num = K*wn**2\n",
        "den = (s**2+2*z*wn*s+(wn**2)) #Denominador de la funcion de transferencia\n",
        "Fe = sym.Function('x')(t) #Señal de entrada, fuerza externa\n",
        "y = sym.Function('y')(t) #Señal de salida, movimiento vertical\n",
        "\n",
        "#Valores de los componentes para cada caso de amortigumiento, calculados teoricamente\n",
        "mck_sub = {m: 4, c: 3, k: 1} # Valores para subamortiguado\n",
        "mck_cri = {m: 4, c: 4, k: 1} # Valores para criticamente amortiguado\n",
        "mck_sob = {m: 4, c: 5, k: 1} # Valores pra sobreamortiguado\n",
        "F"
      ]
    },
    {
      "cell_type": "markdown",
      "source": [
        "<font color='green'>**Teniendo definidos los valores para cada caso y la funcion de transferencia definida, se procede a reemplazar dichos valores en la y se grafica las caraceristicas que adqre el sistema y su respuesta a diferentes señales de entrada**</font>\n"
      ],
      "metadata": {
        "id": "tdeg8JRThljY"
      }
    },
    {
      "cell_type": "markdown",
      "source": [
        "<font color='green'>**Para el sistema subamortiguado**</font>\n"
      ],
      "metadata": {
        "id": "gjevnlX4ifY3"
      }
    },
    {
      "cell_type": "code",
      "source": [
        "#Graficas sistema subamortiguado\n",
        "num_sub,den_sub=sym.fraction(F.subs(mck_sub))# Se extraen el numerador y el denominador de la función\n",
        "f_sub = TransferFunction(num_sub, den_sub, s)# Se recrea la funcion con los valores de los elementos reemplazados\n",
        "\n",
        "pole_zero_plot(f_sub) #Grafica de polos y zeros\n",
        "\n",
        "bode_plot(f_sub) # diagrama de bode\n",
        "\n",
        "impulse_response_plot(f_sub,upper_limit=5/(z.subs(mck_sub)*wn.subs(mck_sub))) # Respuesa al ingresar una señal pulso\n",
        "\n",
        "step_response_plot(f_sub,upper_limit=15/(z.subs(mck_sub)*wn.subs(mck_sub))) # Respuesta al ingresar una señal escalón\n",
        "\n",
        "ramp_response_plot(f_sub,upper_limit=5/(z.subs(mck_sub)*wn.subs(mck_sub))) # Respuesta al ingresar una señal rampa"
      ],
      "metadata": {
        "id": "moNCVvmzHK-N"
      },
      "execution_count": null,
      "outputs": []
    },
    {
      "cell_type": "markdown",
      "source": [
        "<font color='green'>**Se repite el procedimiento con el mismo codigo para el sistema criticamente amortigudo amortiguado**</font>"
      ],
      "metadata": {
        "id": "njfYtPRIiuE6"
      }
    },
    {
      "cell_type": "code",
      "source": [
        "\n",
        "#Graficas sistema criticamente amortiguado\n",
        "num_cri,den_cri=sym.fraction(F.subs(mck_cri))\n",
        "f_cri = TransferFunction(num_cri, den_cri, s)\n",
        "\n",
        "pole_zero_plot(f_cri, points=True)\n",
        "\n",
        "bode_plot(f_cri)\n",
        "\n",
        "impulse_response_plot(f_cri,upper_limit=5/(z.subs(mck_cri)*wn.subs(mck_cri)))\n",
        "\n",
        "step_response_plot(f_cri,upper_limit=15/(z.subs(mck_cri)*wn.subs(mck_cri)))\n",
        "\n",
        "ramp_response_plot(f_cri,upper_limit=5/(z.subs(mck_cri)*wn.subs(mck_cri)))\n"
      ],
      "metadata": {
        "id": "wPLIQTrATXEo"
      },
      "execution_count": null,
      "outputs": []
    },
    {
      "cell_type": "markdown",
      "source": [
        "<font color='green'>**Finalmente para el sistema sobreamortiguado**</font>"
      ],
      "metadata": {
        "id": "3DeZ1haci9dQ"
      }
    },
    {
      "cell_type": "code",
      "source": [
        "#Graficas sistema sobreamortiguado\n",
        "num_sob,den_sob=sym.fraction(F.subs(mck_sob))\n",
        "f_sob = TransferFunction(num_sob, den_sob, s)\n",
        "\n",
        "pole_zero_plot(f_sob, points=True)\n",
        "\n",
        "bode_plot(f_sob)\n",
        "\n",
        "impulse_response_plot(f_sob,upper_limit=5/(z.subs(mck_sob)*wn.subs(mck_sob)))\n",
        "\n",
        "step_response_plot(f_sob,upper_limit=15/(z.subs(mck_sob)*wn.subs(mck_sob)))\n",
        "\n",
        "ramp_response_plot(f_sob,upper_limit=5/(z.subs(mck_sob)*wn.subs(mck_sob)))"
      ],
      "metadata": {
        "id": "kBR4A8CoVg_5"
      },
      "execution_count": null,
      "outputs": []
    },
    {
      "cell_type": "markdown",
      "source": [
        "<font color='green'>**Como se plantea teoricamente, se define la funcion de trannsferencia para un sistema de lazo cerrado, y se ealia el mismo analisis anterior utilizando los mismos valores para cada caso**</font>"
      ],
      "metadata": {
        "id": "s0q9391CjGSD"
      }
    },
    {
      "cell_type": "code",
      "source": [
        "#graficas para modo lazo cerrado\n",
        "\n",
        "Flc = K*wn**2 / (1 + (s**2+2*z*wn*s+(wn**2)))# Función de transferencia de lazo cerrado, Calculada teoricamente\n",
        "Flc"
      ],
      "metadata": {
        "colab": {
          "base_uri": "https://localhost:8080/",
          "height": 58
        },
        "id": "geHsw43PVzAP",
        "outputId": "f375b7a7-5b36-4b6c-f8d0-574b9a8c5134"
      },
      "execution_count": null,
      "outputs": [
        {
          "output_type": "execute_result",
          "data": {
            "text/plain": [
              "         1          \n",
              "────────────────────\n",
              "  ⎛c⋅s   k    2    ⎞\n",
              "m⋅⎜─── + ─ + s  + 1⎟\n",
              "  ⎝ m    m         ⎠"
            ],
            "text/latex": "$\\displaystyle \\frac{1}{m \\left(\\frac{c s}{m} + \\frac{k}{m} + s^{2} + 1\\right)}$"
          },
          "metadata": {},
          "execution_count": 118
        }
      ]
    },
    {
      "cell_type": "code",
      "source": [
        "#Graficas sistema subamortiguado\n",
        "num_sub,den_sub=sym.fraction(Flc.subs(mck_sub))\n",
        "f_sub = TransferFunction(num_sub, den_sub, s)\n",
        "\n",
        "pole_zero_plot(f_sub)\n",
        "\n",
        "bode_plot(f_sub)\n",
        "\n",
        "impulse_response_plot(f_sub,upper_limit=5/(z.subs(mck_sub)*wn.subs(mck_sub)))\n",
        "\n",
        "step_response_plot(f_sub,upper_limit=15/(z.subs(mck_sub)*wn.subs(mck_sub)))\n",
        "\n",
        "ramp_response_plot(f_sub,upper_limit=5/(z.subs(mck_sub)*wn.subs(mck_sub)))"
      ],
      "metadata": {
        "id": "zBgAd2SOdelL"
      },
      "execution_count": null,
      "outputs": []
    },
    {
      "cell_type": "code",
      "source": [
        "#Graficas sistema criticamente amortiguado\n",
        "num_cri,den_cri=sym.fraction(Flc.subs(mck_cri))\n",
        "f_cri = TransferFunction(num_cri, den_cri, s)\n",
        "\n",
        "pole_zero_plot(f_cri, points=True)\n",
        "\n",
        "bode_plot(f_cri)\n",
        "\n",
        "impulse_response_plot(f_cri,upper_limit=5/(z.subs(mck_cri)*wn.subs(mck_cri)))\n",
        "\n",
        "step_response_plot(f_cri,upper_limit=15/(z.subs(mck_cri)*wn.subs(mck_cri)))\n",
        "\n",
        "ramp_response_plot(f_cri,upper_limit=5/(z.subs(mck_cri)*wn.subs(mck_cri)))\n"
      ],
      "metadata": {
        "id": "bMfS1kspegrC"
      },
      "execution_count": null,
      "outputs": []
    },
    {
      "cell_type": "code",
      "source": [
        "#Graficas sistema sobreamortiguado\n",
        "num_sob,den_sob=sym.fraction(Flc.subs(mck_sob))\n",
        "f_sob = TransferFunction(num_sob, den_sob, s)\n",
        "\n",
        "pole_zero_plot(f_sob, points=True)\n",
        "\n",
        "bode_plot(f_sob)\n",
        "\n",
        "impulse_response_plot(f_sob,upper_limit=5/(z.subs(mck_sob)*wn.subs(mck_sob)))\n",
        "\n",
        "step_response_plot(f_sob,upper_limit=15/(z.subs(mck_sob)*wn.subs(mck_sob)))\n",
        "\n",
        "ramp_response_plot(f_sob,upper_limit=5/(z.subs(mck_sob)*wn.subs(mck_sob)))"
      ],
      "metadata": {
        "id": "PPVLfGxRejqj"
      },
      "execution_count": null,
      "outputs": []
    }
  ]
}