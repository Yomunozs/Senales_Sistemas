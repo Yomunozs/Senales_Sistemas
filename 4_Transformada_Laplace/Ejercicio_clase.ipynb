{
  "nbformat": 4,
  "nbformat_minor": 0,
  "metadata": {
    "colab": {
      "provenance": [],
      "authorship_tag": "ABX9TyO8s3aVlAt7L9Nwh2NVMz6r",
      "include_colab_link": true
    },
    "kernelspec": {
      "name": "python3",
      "display_name": "Python 3"
    },
    "language_info": {
      "name": "python"
    }
  },
  "cells": [
    {
      "cell_type": "markdown",
      "metadata": {
        "id": "view-in-github",
        "colab_type": "text"
      },
      "source": [
        "<a href=\"https://colab.research.google.com/github/Yomunozs/Senales_Sistemas/blob/main/4_Transformada_Laplace/Ejercicio_clase.ipynb\" target=\"_parent\"><img src=\"https://colab.research.google.com/assets/colab-badge.svg\" alt=\"Open In Colab\"/></a>"
      ]
    },
    {
      "cell_type": "markdown",
      "source": [
        " Encuentre la función de transferencia (demostración matemática) para un circuito RLC paralelo (entrada: fuente de corriente AC, salida: corriente en inductor), con condiciones iniciales cero. Luego, utilizando la API de control de sympy, simular y graficar: i) diagrama de polos y ceros, ii) diagrama de bode iii) respuesta impulso, iv) respuesta escalón, v) respuesta rampa. (Ver https://github.com/amalvarezme/SenalesSistemas/blob/master/4_Transformada_Laplace/8_FraccionesParcialesLaplace_CircuitoRLC.ipynb)"
      ],
      "metadata": {
        "id": "lp2UqUSJLpVs"
      }
    },
    {
      "cell_type": "code",
      "execution_count": null,
      "metadata": {
        "id": "3hDNuEFTLnOc"
      },
      "outputs": [],
      "source": [
        "import sympy as sym\n",
        "import matplotlib.pyplot as plt\n",
        "import sympy.physics.control as control\n",
        "\n",
        "sym.init_printing()\n",
        "\n",
        "s = sym.symbols('s', complex=True)\n",
        "t, R, L, C = sym.symbols('t R L C', positive=True)\n",
        "#Entrada de interés en Laplace\n",
        "X = 1/s # Ajustar según tipo de entrada\n",
        "H=control.TransferFunction(1,,s) #Funcion de transferencia con la API de control, reemplazar  con la funcion para circuito en paralelo\n",
        "#Hlc = H/(1+H) #para lazo cerrado\n",
        "\n",
        "Y = H.num * X /H.den#función de transferencia del circuito multiplicada por X(s)\n",
        "#Función de salida\n",
        "Y\n",
        ""
      ]
    }
  ]
}