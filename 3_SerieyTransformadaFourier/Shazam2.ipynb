{
  "nbformat": 4,
  "nbformat_minor": 0,
  "metadata": {
    "colab": {
      "provenance": [],
      "authorship_tag": "ABX9TyPxNVficYJSzSWBYv0I6p3Z",
      "include_colab_link": true
    },
    "kernelspec": {
      "name": "python3",
      "display_name": "Python 3"
    },
    "language_info": {
      "name": "python"
    }
  },
  "cells": [
    {
      "cell_type": "markdown",
      "metadata": {
        "id": "view-in-github",
        "colab_type": "text"
      },
      "source": [
        "<a href=\"https://colab.research.google.com/github/Yomunozs/Senales_Sistemas/blob/main/3_SerieyTransformadaFourier/Shazam2.ipynb\" target=\"_parent\"><img src=\"https://colab.research.google.com/assets/colab-badge.svg\" alt=\"Open In Colab\"/></a>"
      ]
    },
    {
      "cell_type": "code",
      "source": [],
      "metadata": {
        "id": "W9PhzcbZln9k"
      },
      "execution_count": null,
      "outputs": []
    },
    {
      "cell_type": "code",
      "execution_count": null,
      "metadata": {
        "id": "1ap7_Fz0jdoi"
      },
      "outputs": [],
      "source": [
        "import joblib\n",
        "salsa_vs_rock=\"salsa_vs_rock\"\n",
        "#cargar modelo\n",
        "#File name: 2023_10_19_22_06_19modelo\n",
        "my_model_loaded = joblib.load(salsa_vs_rock+\".pkl\")\n",
        "my_model_loaded.keys()\n",
        "\n",
        "evaluar = str(input(\"Ingrese el link de la canción: \")) #cancion para evaluar genero\n",
        "download_ytvid_as_mp3(evaluar,\"prueba\") # se utiliza la funcion para descargar la cancion de youtube\n",
        "\n",
        "prueba = \"prueba\"\n",
        "subprocess.call(['ffmpeg','-y', '-i', prueba+'.mp3',\n",
        "                   prueba+'.wav'])\n",
        "\n",
        "#leer la cancion\n",
        "nombre_out = \"output.wav\"\n",
        "x, fs = sf.read(prueba+'.wav')#x es la canción\n",
        "\n",
        "tp = np.array([40,50,60,70,80,90,100])#cantidad y ubicacion de segmentos\n",
        "NS = len(tp)\n",
        "x_p = np.zeros((NS,int(ts*fs),2))\n",
        "i=0\n",
        "prueba_c=[]\n",
        "for ti in tp: #segmentos de tiempo\n",
        "        x_p[i] = x[int(fs*ti):int(fs*(ti+ts)),:]\n",
        "        #label[i] = int(prueba[-5]) #tipo de genero\n",
        "        prueba_c += [prueba[:-6]]\n",
        "        print(f\"{i} lectura: {prueba}; segundo {ti}:{ti+ts}; \")\n",
        "        i+=1\n",
        "x_p.shape\n",
        "\n",
        "#calculo de fourier\n",
        "vfp = np.fft.rfftfreq(x_p.shape[1],1/fs) #calculo vector de frecuencias\n",
        "Xwp = np.fft.rfft(x_p,axis=1).mean(axis=-1) #transformada rapida de Fourier para señal Real a lo largo del tiempo (axis=1) y se promedian los dos canales\n",
        "#normalizacion entre  0 y 1\n",
        "scap = MinMaxScaler()\n",
        "Xwp_ = scap.fit_transform(abs(Xwp).T).T#datos para conparar con la base\n",
        "\n",
        "from scipy.spatial.distance import cdist\n",
        "#for i in range\n",
        "dn = cdist(Xwp_[0,].reshape(-1,1),Xw_[0,].reshape(-1,1))#distancia\n",
        "ind = np.argmin(dn) #posición distancia min\n"
      ]
    }
  ]
}