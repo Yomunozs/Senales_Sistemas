{
  "nbformat": 4,
  "nbformat_minor": 0,
  "metadata": {
    "colab": {
      "provenance": [],
      "authorship_tag": "ABX9TyPsBC4TKegdWcrD+aSnoQxB",
      "include_colab_link": true
    },
    "kernelspec": {
      "name": "python3",
      "display_name": "Python 3"
    },
    "language_info": {
      "name": "python"
    }
  },
  "cells": [
    {
      "cell_type": "markdown",
      "metadata": {
        "id": "view-in-github",
        "colab_type": "text"
      },
      "source": [
        "<a href=\"https://colab.research.google.com/github/Yomunozs/Senales_Sistemas/blob/main/3_SerieyTransformadaFourier/Shazam2.ipynb\" target=\"_parent\"><img src=\"https://colab.research.google.com/assets/colab-badge.svg\" alt=\"Open In Colab\"/></a>"
      ]
    },
    {
      "cell_type": "code",
      "source": [],
      "metadata": {
        "colab": {
          "base_uri": "https://localhost:8080/",
          "height": 175
        },
        "id": "W9PhzcbZln9k",
        "outputId": "7ad92468-fe54-4621-b471-f2adad9b4b3e"
      },
      "execution_count": 11,
      "outputs": [
        {
          "output_type": "error",
          "ename": "AttributeError",
          "evalue": "ignored",
          "traceback": [
            "\u001b[0;31m---------------------------------------------------------------------------\u001b[0m",
            "\u001b[0;31mAttributeError\u001b[0m                            Traceback (most recent call last)",
            "\u001b[0;32m<ipython-input-11-8954a232d1ab>\u001b[0m in \u001b[0;36m<cell line: 1>\u001b[0;34m()\u001b[0m\n\u001b[0;32m----> 1\u001b[0;31m \u001b[0ma\u001b[0m\u001b[0;34m=\u001b[0m\u001b[0msalsa_vs_rock\u001b[0m\u001b[0;34m.\u001b[0m\u001b[0mcall\u001b[0m\u001b[0;34m[\u001b[0m\u001b[0mXw_\u001b[0m\u001b[0;34m]\u001b[0m\u001b[0;34m\u001b[0m\u001b[0;34m\u001b[0m\u001b[0m\n\u001b[0m",
            "\u001b[0;31mAttributeError\u001b[0m: 'str' object has no attribute 'call'"
          ]
        }
      ]
    },
    {
      "cell_type": "code",
      "execution_count": 16,
      "metadata": {
        "colab": {
          "base_uri": "https://localhost:8080/",
          "height": 1000
        },
        "id": "1ap7_Fz0jdoi",
        "outputId": "c7cf57db-33c7-47c8-bb75-0520fd121a5c"
      },
      "outputs": [
        {
          "output_type": "stream",
          "name": "stdout",
          "text": [
            "Traceback (most recent call last):\n",
            "  File \"/usr/lib/python3.10/runpy.py\", line 196, in _run_module_as_main\n",
            "    return _run_code(code, main_globals, None,\n",
            "  File \"/usr/lib/python3.10/runpy.py\", line 86, in _run_code\n",
            "    exec(code, run_globals)\n",
            "  File \"/usr/local/lib/python3.10/dist-packages/pip/__main__.py\", line 29, in <module>\n",
            "    from pip._internal.cli.main import main as _main\n",
            "  File \"/usr/local/lib/python3.10/dist-packages/pip/_internal/cli/main.py\", line 10, in <module>\n",
            "    from pip._internal.cli.autocompletion import autocomplete\n",
            "  File \"/usr/local/lib/python3.10/dist-packages/pip/_internal/cli/autocompletion.py\", line 10, in <module>\n",
            "    from pip._internal.cli.main_parser import create_main_parser\n",
            "  File \"/usr/local/lib/python3.10/dist-packages/pip/_internal/cli/main_parser.py\", line 9, in <module>\n",
            "    from pip._internal.build_env import get_runnable_pip\n",
            "  File \"/usr/local/lib/python3.10/dist-packages/pip/_internal/build_env.py\", line 19, in <module>\n",
            "    from pip._internal.cli.spinners import open_spinner\n",
            "  File \"/usr/local/lib/python3.10/dist-packages/pip/_internal/cli/spinners.py\", line 9, in <module>\n",
            "    from pip._internal.utils.logging import get_indentation\n",
            "  File \"/usr/local/lib/python3.10/dist-packages/pip/_internal/utils/logging.py\", line 13, in <module>\n",
            "    from pip._vendor.rich.console import (\n",
            "  File \"/usr/local/lib/python3.10/dist-packages/pip/_vendor/rich/console.py\", line 60, in <module>\n",
            "    from .pretty import Pretty, is_expandable\n",
            "  File \"/usr/local/lib/python3.10/dist-packages/pip/_vendor/rich/pretty.py\", line 31, in <module>\n",
            "    import attr as _attr_module\n",
            "  File \"/usr/local/lib/python3.10/dist-packages/attr/__init__.py\", line 10, in <module>\n",
            "    from . import converters, exceptions, filters, setters, validators\n",
            "  File \"/usr/local/lib/python3.10/dist-packages/attr/validators.py\", line 575, in <module>\n",
            "    class _MinLengthValidator:\n",
            "  File \"/usr/local/lib/python3.10/dist-packages/attr/_make.py\", line 1499, in wrap\n",
            "    builder = _ClassBuilder(\n",
            "  File \"/usr/local/lib/python3.10/dist-packages/attr/_make.py\", line 657, in __init__\n",
            "    attrs, base_attrs, base_map = _transform_attrs(\n",
            "  File \"/usr/local/lib/python3.10/dist-packages/attr/_make.py\", line 537, in _transform_attrs\n",
            "    own_attrs = [\n",
            "  File \"/usr/local/lib/python3.10/dist-packages/attr/_make.py\", line 538, in <listcomp>\n",
            "    Attribute.from_counting_attr(\n",
            "  File \"/usr/local/lib/python3.10/dist-packages/attr/_make.py\", line 2543, in from_counting_attr\n",
            "    inst_dict = {\n",
            "  File \"/usr/local/lib/python3.10/dist-packages/attr/_make.py\", line 2544, in <dictcomp>\n",
            "    k: getattr(ca, k)\n",
            "KeyboardInterrupt\n",
            "^C\n",
            "Requirement already satisfied: soundfile in /usr/local/lib/python3.10/dist-packages (0.12.1)\n",
            "Requirement already satisfied: cffi>=1.0 in /usr/local/lib/python3.10/dist-packages (from soundfile) (1.16.0)\n",
            "Requirement already satisfied: pycparser in /usr/local/lib/python3.10/dist-packages (from cffi>=1.0->soundfile) (2.21)\n",
            "\u001b[31mERROR: Operation cancelled by user\u001b[0m\u001b[31m\n",
            "\u001b[0m"
          ]
        },
        {
          "output_type": "error",
          "ename": "KeyboardInterrupt",
          "evalue": "ignored",
          "traceback": [
            "\u001b[0;31m---------------------------------------------------------------------------\u001b[0m",
            "\u001b[0;31mKeyboardInterrupt\u001b[0m                         Traceback (most recent call last)",
            "\u001b[0;32m<ipython-input-16-35e0049fbdec>\u001b[0m in \u001b[0;36m<cell line: 44>\u001b[0;34m()\u001b[0m\n\u001b[1;32m     42\u001b[0m \u001b[0;34m\u001b[0m\u001b[0m\n\u001b[1;32m     43\u001b[0m \u001b[0;31m#https://www.youtube.com/watch?v=alJgdP95MS4\u001b[0m\u001b[0;34m\u001b[0m\u001b[0;34m\u001b[0m\u001b[0m\n\u001b[0;32m---> 44\u001b[0;31m \u001b[0mevaluar\u001b[0m \u001b[0;34m=\u001b[0m \u001b[0mstr\u001b[0m\u001b[0;34m(\u001b[0m\u001b[0minput\u001b[0m\u001b[0;34m(\u001b[0m\u001b[0;34m\"Ingrese el link de la canción: \"\u001b[0m\u001b[0;34m)\u001b[0m\u001b[0;34m)\u001b[0m \u001b[0;31m#cancion para evaluar genero\u001b[0m\u001b[0;34m\u001b[0m\u001b[0;34m\u001b[0m\u001b[0m\n\u001b[0m\u001b[1;32m     45\u001b[0m \u001b[0mdownload_ytvid_as_mp3\u001b[0m\u001b[0;34m(\u001b[0m\u001b[0mevaluar\u001b[0m\u001b[0;34m,\u001b[0m\u001b[0;34m\"prueba\"\u001b[0m\u001b[0;34m)\u001b[0m \u001b[0;31m# se utiliza la funcion para descargar la cancion de youtube\u001b[0m\u001b[0;34m\u001b[0m\u001b[0;34m\u001b[0m\u001b[0m\n\u001b[1;32m     46\u001b[0m \u001b[0;34m\u001b[0m\u001b[0m\n",
            "\u001b[0;32m/usr/local/lib/python3.10/dist-packages/ipykernel/kernelbase.py\u001b[0m in \u001b[0;36mraw_input\u001b[0;34m(self, prompt)\u001b[0m\n\u001b[1;32m    849\u001b[0m                 \u001b[0;34m\"raw_input was called, but this frontend does not support input requests.\"\u001b[0m\u001b[0;34m\u001b[0m\u001b[0;34m\u001b[0m\u001b[0m\n\u001b[1;32m    850\u001b[0m             )\n\u001b[0;32m--> 851\u001b[0;31m         return self._input_request(str(prompt),\n\u001b[0m\u001b[1;32m    852\u001b[0m             \u001b[0mself\u001b[0m\u001b[0;34m.\u001b[0m\u001b[0m_parent_ident\u001b[0m\u001b[0;34m,\u001b[0m\u001b[0;34m\u001b[0m\u001b[0;34m\u001b[0m\u001b[0m\n\u001b[1;32m    853\u001b[0m             \u001b[0mself\u001b[0m\u001b[0;34m.\u001b[0m\u001b[0m_parent_header\u001b[0m\u001b[0;34m,\u001b[0m\u001b[0;34m\u001b[0m\u001b[0;34m\u001b[0m\u001b[0m\n",
            "\u001b[0;32m/usr/local/lib/python3.10/dist-packages/ipykernel/kernelbase.py\u001b[0m in \u001b[0;36m_input_request\u001b[0;34m(self, prompt, ident, parent, password)\u001b[0m\n\u001b[1;32m    893\u001b[0m             \u001b[0;32mexcept\u001b[0m \u001b[0mKeyboardInterrupt\u001b[0m\u001b[0;34m:\u001b[0m\u001b[0;34m\u001b[0m\u001b[0;34m\u001b[0m\u001b[0m\n\u001b[1;32m    894\u001b[0m                 \u001b[0;31m# re-raise KeyboardInterrupt, to truncate traceback\u001b[0m\u001b[0;34m\u001b[0m\u001b[0;34m\u001b[0m\u001b[0m\n\u001b[0;32m--> 895\u001b[0;31m                 \u001b[0;32mraise\u001b[0m \u001b[0mKeyboardInterrupt\u001b[0m\u001b[0;34m(\u001b[0m\u001b[0;34m\"Interrupted by user\"\u001b[0m\u001b[0;34m)\u001b[0m \u001b[0;32mfrom\u001b[0m \u001b[0;32mNone\u001b[0m\u001b[0;34m\u001b[0m\u001b[0;34m\u001b[0m\u001b[0m\n\u001b[0m\u001b[1;32m    896\u001b[0m             \u001b[0;32mexcept\u001b[0m \u001b[0mException\u001b[0m \u001b[0;32mas\u001b[0m \u001b[0me\u001b[0m\u001b[0;34m:\u001b[0m\u001b[0;34m\u001b[0m\u001b[0;34m\u001b[0m\u001b[0m\n\u001b[1;32m    897\u001b[0m                 \u001b[0mself\u001b[0m\u001b[0;34m.\u001b[0m\u001b[0mlog\u001b[0m\u001b[0;34m.\u001b[0m\u001b[0mwarning\u001b[0m\u001b[0;34m(\u001b[0m\u001b[0;34m\"Invalid Message:\"\u001b[0m\u001b[0;34m,\u001b[0m \u001b[0mexc_info\u001b[0m\u001b[0;34m=\u001b[0m\u001b[0;32mTrue\u001b[0m\u001b[0;34m)\u001b[0m\u001b[0;34m\u001b[0m\u001b[0;34m\u001b[0m\u001b[0m\n",
            "\u001b[0;31mKeyboardInterrupt\u001b[0m: Interrupted by user"
          ]
        }
      ],
      "source": [
        "import joblib\n",
        "import pandas as pd\n",
        "import numpy as np\n",
        "import matplotlib.pyplot as plt\n",
        "import os\n",
        "import yt_dlp as youtube_dl\n",
        "import subprocess\n",
        "import os\n",
        "import soundfile as sf # para instalar pip install soundfile\n",
        "from sklearn.preprocessing import MinMaxScaler\n",
        "salsa_vs_rock=\"salsa_vs_rock\"\n",
        "#cargar modelo\n",
        "#File name: 2023_10_19_22_06_19modelo\n",
        "my_model_loaded = joblib.load(salsa_vs_rock+\".pkl\")\n",
        "my_model_loaded.keys()\n",
        "my_model_loaded\n",
        "\n",
        "#instalar librerias necesarias para descargar audios youtube\n",
        "!python3 -m pip install --force-reinstall https://github.com/yt-dlp/yt-dlp/archive/master.tar.gz\n",
        "!pip install soundfile\n",
        "\n",
        "#funcion para descargar mp3 desde youtube\n",
        "def download_ytvid_as_mp3(video_url,name):\n",
        "    #video_url = input(\"enter url of youtube video:\")\n",
        "    video_info = youtube_dl.YoutubeDL().extract_info(url = video_url,download=False)\n",
        "    filename = f\"{name}.mp3\"\n",
        "    options={\n",
        "        'format':'bestaudio/best',\n",
        "        'keepvideo':False,\n",
        "        'outtmpl':filename,\n",
        "    }\n",
        "\n",
        "    with youtube_dl.YoutubeDL(options) as ydl:\n",
        "        ydl.download([video_info['webpage_url']])\n",
        "\n",
        "    print(\"Download complete... {}\".format(filename))\n",
        "\n",
        "\n",
        "\n",
        "!pip install soundfile #instalar sondfile\n",
        "\n",
        "\n",
        "#https://www.youtube.com/watch?v=alJgdP95MS4\n",
        "evaluar = str(input(\"Ingrese el link de la canción: \")) #cancion para evaluar genero\n",
        "download_ytvid_as_mp3(evaluar,\"prueba\") # se utiliza la funcion para descargar la cancion de youtube\n",
        "\n",
        "prueba = \"prueba\"\n",
        "subprocess.call(['ffmpeg','-y', '-i', prueba+'.mp3',\n",
        "                   prueba+'.wav'])\n",
        "\n",
        "#leer la cancion\n",
        "nombre_out = \"output.wav\"\n",
        "x, fs = sf.read(prueba+'.wav')#x es la canción\n",
        "ts = 5 #t segmento\n",
        "tp = np.array([40,50,60,70,80,90,100])#cantidad y ubicacion de segmentos\n",
        "NS = len(tp)\n",
        "x_p = np.zeros((NS,int(ts*fs),2))\n",
        "i=0\n",
        "prueba_c=[]\n",
        "for ti in tp: #segmentos de tiempo\n",
        "        x_p[i] = x[int(fs*ti):int(fs*(ti+ts)),:]\n",
        "        #label[i] = int(prueba[-5]) #tipo de genero\n",
        "        prueba_c += [prueba[:-6]]\n",
        "        print(f\"{i} lectura: {prueba}; segundo {ti}:{ti+ts}; \")\n",
        "        i+=1\n",
        "x_p.shape\n",
        "\n",
        "#calculo de fourier\n",
        "vfp = np.fft.rfftfreq(x_p.shape[1],1/fs) #calculo vector de frecuencias\n",
        "Xwp = np.fft.rfft(x_p,axis=1).mean(axis=-1) #transformada rapida de Fourier para señal Real a lo largo del tiempo (axis=1) y se promedian los dos canales\n",
        "#normalizacion entre  0 y 1\n",
        "scap = MinMaxScaler()\n",
        "Xwp_ = scap.fit_transform(abs(Xwp).T).T#datos para conparar con la base\n",
        "\n",
        "from scipy.spatial.distance import cdist\n",
        "#for i in range\n",
        "dn = cdist(Xwp_[0,].reshape(-1,1),Xw_[0,].reshape(-1,1))#distancia\n",
        "ind = np.argmin(dn) #posición distancia min\n"
      ]
    },
    {
      "cell_type": "code",
      "source": [
        "a=my_model_loaded{\"Xw_\"}"
      ],
      "metadata": {
        "colab": {
          "base_uri": "https://localhost:8080/",
          "height": 140
        },
        "id": "qhZ_IL2Jsl33",
        "outputId": "98a624e2-40fd-4ef2-a737-d9b12dbe9604"
      },
      "execution_count": 21,
      "outputs": [
        {
          "output_type": "error",
          "ename": "SyntaxError",
          "evalue": "ignored",
          "traceback": [
            "\u001b[0;36m  File \u001b[0;32m\"<ipython-input-21-903f05e9ff87>\"\u001b[0;36m, line \u001b[0;32m1\u001b[0m\n\u001b[0;31m    a=my_model_loaded{\"Xw_\"}\u001b[0m\n\u001b[0m                     ^\u001b[0m\n\u001b[0;31mSyntaxError\u001b[0m\u001b[0;31m:\u001b[0m invalid syntax\n"
          ]
        }
      ]
    },
    {
      "cell_type": "code",
      "source": [],
      "metadata": {
        "id": "FV28t1bPs_Jh"
      },
      "execution_count": null,
      "outputs": []
    }
  ]
}